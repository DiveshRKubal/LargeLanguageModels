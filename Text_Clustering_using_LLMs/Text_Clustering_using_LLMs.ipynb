{
  "nbformat": 4,
  "nbformat_minor": 0,
  "metadata": {
    "colab": {
      "provenance": [],
      "gpuType": "T4"
    },
    "kernelspec": {
      "name": "python3",
      "display_name": "Python 3"
    },
    "language_info": {
      "name": "python"
    },
    "accelerator": "GPU",
    "widgets": {
      "application/vnd.jupyter.widget-state+json": {
        "dd5b934631e54e76ada8c782164fd74b": {
          "model_module": "@jupyter-widgets/controls",
          "model_name": "HBoxModel",
          "model_module_version": "1.5.0",
          "state": {
            "_dom_classes": [],
            "_model_module": "@jupyter-widgets/controls",
            "_model_module_version": "1.5.0",
            "_model_name": "HBoxModel",
            "_view_count": null,
            "_view_module": "@jupyter-widgets/controls",
            "_view_module_version": "1.5.0",
            "_view_name": "HBoxView",
            "box_style": "",
            "children": [
              "IPY_MODEL_edaef27948e54532ba85a81122ce83ba",
              "IPY_MODEL_591bb00d627f40a7bece944c9037351e",
              "IPY_MODEL_6a5cc78577934c0aa5bafdc17ad4aff0"
            ],
            "layout": "IPY_MODEL_62f8781979834da785cd0d8a77b0e6ea"
          }
        },
        "edaef27948e54532ba85a81122ce83ba": {
          "model_module": "@jupyter-widgets/controls",
          "model_name": "HTMLModel",
          "model_module_version": "1.5.0",
          "state": {
            "_dom_classes": [],
            "_model_module": "@jupyter-widgets/controls",
            "_model_module_version": "1.5.0",
            "_model_name": "HTMLModel",
            "_view_count": null,
            "_view_module": "@jupyter-widgets/controls",
            "_view_module_version": "1.5.0",
            "_view_name": "HTMLView",
            "description": "",
            "description_tooltip": null,
            "layout": "IPY_MODEL_beab85e1a90c444aba25ebc5eeda31a2",
            "placeholder": "​",
            "style": "IPY_MODEL_7d4441cbfcbb41098189f4705f848f45",
            "value": "Batches: 100%"
          }
        },
        "591bb00d627f40a7bece944c9037351e": {
          "model_module": "@jupyter-widgets/controls",
          "model_name": "FloatProgressModel",
          "model_module_version": "1.5.0",
          "state": {
            "_dom_classes": [],
            "_model_module": "@jupyter-widgets/controls",
            "_model_module_version": "1.5.0",
            "_model_name": "FloatProgressModel",
            "_view_count": null,
            "_view_module": "@jupyter-widgets/controls",
            "_view_module_version": "1.5.0",
            "_view_name": "ProgressView",
            "bar_style": "success",
            "description": "",
            "description_tooltip": null,
            "layout": "IPY_MODEL_ac8a9e3f241548f39227ee3c9f68e711",
            "max": 1405,
            "min": 0,
            "orientation": "horizontal",
            "style": "IPY_MODEL_4653e4f5c991492ba0b5d4f983776d12",
            "value": 1405
          }
        },
        "6a5cc78577934c0aa5bafdc17ad4aff0": {
          "model_module": "@jupyter-widgets/controls",
          "model_name": "HTMLModel",
          "model_module_version": "1.5.0",
          "state": {
            "_dom_classes": [],
            "_model_module": "@jupyter-widgets/controls",
            "_model_module_version": "1.5.0",
            "_model_name": "HTMLModel",
            "_view_count": null,
            "_view_module": "@jupyter-widgets/controls",
            "_view_module_version": "1.5.0",
            "_view_name": "HTMLView",
            "description": "",
            "description_tooltip": null,
            "layout": "IPY_MODEL_59bf7ee9a5b94441bdee4f997a4465f6",
            "placeholder": "​",
            "style": "IPY_MODEL_36b41f1862084b3e89f28cd04428baa8",
            "value": " 1405/1405 [03:40&lt;00:00, 22.43it/s]"
          }
        },
        "62f8781979834da785cd0d8a77b0e6ea": {
          "model_module": "@jupyter-widgets/base",
          "model_name": "LayoutModel",
          "model_module_version": "1.2.0",
          "state": {
            "_model_module": "@jupyter-widgets/base",
            "_model_module_version": "1.2.0",
            "_model_name": "LayoutModel",
            "_view_count": null,
            "_view_module": "@jupyter-widgets/base",
            "_view_module_version": "1.2.0",
            "_view_name": "LayoutView",
            "align_content": null,
            "align_items": null,
            "align_self": null,
            "border": null,
            "bottom": null,
            "display": null,
            "flex": null,
            "flex_flow": null,
            "grid_area": null,
            "grid_auto_columns": null,
            "grid_auto_flow": null,
            "grid_auto_rows": null,
            "grid_column": null,
            "grid_gap": null,
            "grid_row": null,
            "grid_template_areas": null,
            "grid_template_columns": null,
            "grid_template_rows": null,
            "height": null,
            "justify_content": null,
            "justify_items": null,
            "left": null,
            "margin": null,
            "max_height": null,
            "max_width": null,
            "min_height": null,
            "min_width": null,
            "object_fit": null,
            "object_position": null,
            "order": null,
            "overflow": null,
            "overflow_x": null,
            "overflow_y": null,
            "padding": null,
            "right": null,
            "top": null,
            "visibility": null,
            "width": null
          }
        },
        "beab85e1a90c444aba25ebc5eeda31a2": {
          "model_module": "@jupyter-widgets/base",
          "model_name": "LayoutModel",
          "model_module_version": "1.2.0",
          "state": {
            "_model_module": "@jupyter-widgets/base",
            "_model_module_version": "1.2.0",
            "_model_name": "LayoutModel",
            "_view_count": null,
            "_view_module": "@jupyter-widgets/base",
            "_view_module_version": "1.2.0",
            "_view_name": "LayoutView",
            "align_content": null,
            "align_items": null,
            "align_self": null,
            "border": null,
            "bottom": null,
            "display": null,
            "flex": null,
            "flex_flow": null,
            "grid_area": null,
            "grid_auto_columns": null,
            "grid_auto_flow": null,
            "grid_auto_rows": null,
            "grid_column": null,
            "grid_gap": null,
            "grid_row": null,
            "grid_template_areas": null,
            "grid_template_columns": null,
            "grid_template_rows": null,
            "height": null,
            "justify_content": null,
            "justify_items": null,
            "left": null,
            "margin": null,
            "max_height": null,
            "max_width": null,
            "min_height": null,
            "min_width": null,
            "object_fit": null,
            "object_position": null,
            "order": null,
            "overflow": null,
            "overflow_x": null,
            "overflow_y": null,
            "padding": null,
            "right": null,
            "top": null,
            "visibility": null,
            "width": null
          }
        },
        "7d4441cbfcbb41098189f4705f848f45": {
          "model_module": "@jupyter-widgets/controls",
          "model_name": "DescriptionStyleModel",
          "model_module_version": "1.5.0",
          "state": {
            "_model_module": "@jupyter-widgets/controls",
            "_model_module_version": "1.5.0",
            "_model_name": "DescriptionStyleModel",
            "_view_count": null,
            "_view_module": "@jupyter-widgets/base",
            "_view_module_version": "1.2.0",
            "_view_name": "StyleView",
            "description_width": ""
          }
        },
        "ac8a9e3f241548f39227ee3c9f68e711": {
          "model_module": "@jupyter-widgets/base",
          "model_name": "LayoutModel",
          "model_module_version": "1.2.0",
          "state": {
            "_model_module": "@jupyter-widgets/base",
            "_model_module_version": "1.2.0",
            "_model_name": "LayoutModel",
            "_view_count": null,
            "_view_module": "@jupyter-widgets/base",
            "_view_module_version": "1.2.0",
            "_view_name": "LayoutView",
            "align_content": null,
            "align_items": null,
            "align_self": null,
            "border": null,
            "bottom": null,
            "display": null,
            "flex": null,
            "flex_flow": null,
            "grid_area": null,
            "grid_auto_columns": null,
            "grid_auto_flow": null,
            "grid_auto_rows": null,
            "grid_column": null,
            "grid_gap": null,
            "grid_row": null,
            "grid_template_areas": null,
            "grid_template_columns": null,
            "grid_template_rows": null,
            "height": null,
            "justify_content": null,
            "justify_items": null,
            "left": null,
            "margin": null,
            "max_height": null,
            "max_width": null,
            "min_height": null,
            "min_width": null,
            "object_fit": null,
            "object_position": null,
            "order": null,
            "overflow": null,
            "overflow_x": null,
            "overflow_y": null,
            "padding": null,
            "right": null,
            "top": null,
            "visibility": null,
            "width": null
          }
        },
        "4653e4f5c991492ba0b5d4f983776d12": {
          "model_module": "@jupyter-widgets/controls",
          "model_name": "ProgressStyleModel",
          "model_module_version": "1.5.0",
          "state": {
            "_model_module": "@jupyter-widgets/controls",
            "_model_module_version": "1.5.0",
            "_model_name": "ProgressStyleModel",
            "_view_count": null,
            "_view_module": "@jupyter-widgets/base",
            "_view_module_version": "1.2.0",
            "_view_name": "StyleView",
            "bar_color": null,
            "description_width": ""
          }
        },
        "59bf7ee9a5b94441bdee4f997a4465f6": {
          "model_module": "@jupyter-widgets/base",
          "model_name": "LayoutModel",
          "model_module_version": "1.2.0",
          "state": {
            "_model_module": "@jupyter-widgets/base",
            "_model_module_version": "1.2.0",
            "_model_name": "LayoutModel",
            "_view_count": null,
            "_view_module": "@jupyter-widgets/base",
            "_view_module_version": "1.2.0",
            "_view_name": "LayoutView",
            "align_content": null,
            "align_items": null,
            "align_self": null,
            "border": null,
            "bottom": null,
            "display": null,
            "flex": null,
            "flex_flow": null,
            "grid_area": null,
            "grid_auto_columns": null,
            "grid_auto_flow": null,
            "grid_auto_rows": null,
            "grid_column": null,
            "grid_gap": null,
            "grid_row": null,
            "grid_template_areas": null,
            "grid_template_columns": null,
            "grid_template_rows": null,
            "height": null,
            "justify_content": null,
            "justify_items": null,
            "left": null,
            "margin": null,
            "max_height": null,
            "max_width": null,
            "min_height": null,
            "min_width": null,
            "object_fit": null,
            "object_position": null,
            "order": null,
            "overflow": null,
            "overflow_x": null,
            "overflow_y": null,
            "padding": null,
            "right": null,
            "top": null,
            "visibility": null,
            "width": null
          }
        },
        "36b41f1862084b3e89f28cd04428baa8": {
          "model_module": "@jupyter-widgets/controls",
          "model_name": "DescriptionStyleModel",
          "model_module_version": "1.5.0",
          "state": {
            "_model_module": "@jupyter-widgets/controls",
            "_model_module_version": "1.5.0",
            "_model_name": "DescriptionStyleModel",
            "_view_count": null,
            "_view_module": "@jupyter-widgets/base",
            "_view_module_version": "1.2.0",
            "_view_name": "StyleView",
            "description_width": ""
          }
        }
      }
    }
  },
  "cells": [
    {
      "cell_type": "markdown",
      "source": [
        "# Install Libraries"
      ],
      "metadata": {
        "id": "oHyn-VOn8gW4"
      }
    },
    {
      "cell_type": "code",
      "source": [
        "!pip install datasets umap-learn hdbscan"
      ],
      "metadata": {
        "colab": {
          "base_uri": "https://localhost:8080/"
        },
        "id": "9n4qWtxM8ilW",
        "outputId": "82a23a92-92f5-4f3d-f8d4-6071872368dd"
      },
      "execution_count": null,
      "outputs": [
        {
          "output_type": "stream",
          "name": "stdout",
          "text": [
            "Requirement already satisfied: datasets in /usr/local/lib/python3.10/dist-packages (3.2.0)\n",
            "Requirement already satisfied: umap-learn in /usr/local/lib/python3.10/dist-packages (0.5.7)\n",
            "Collecting hdbscan\n",
            "  Downloading hdbscan-0.8.40-cp310-cp310-manylinux_2_17_x86_64.manylinux2014_x86_64.whl.metadata (15 kB)\n",
            "Requirement already satisfied: filelock in /usr/local/lib/python3.10/dist-packages (from datasets) (3.16.1)\n",
            "Requirement already satisfied: numpy>=1.17 in /usr/local/lib/python3.10/dist-packages (from datasets) (1.26.4)\n",
            "Requirement already satisfied: pyarrow>=15.0.0 in /usr/local/lib/python3.10/dist-packages (from datasets) (17.0.0)\n",
            "Requirement already satisfied: dill<0.3.9,>=0.3.0 in /usr/local/lib/python3.10/dist-packages (from datasets) (0.3.8)\n",
            "Requirement already satisfied: pandas in /usr/local/lib/python3.10/dist-packages (from datasets) (2.2.2)\n",
            "Requirement already satisfied: requests>=2.32.2 in /usr/local/lib/python3.10/dist-packages (from datasets) (2.32.3)\n",
            "Requirement already satisfied: tqdm>=4.66.3 in /usr/local/lib/python3.10/dist-packages (from datasets) (4.67.1)\n",
            "Requirement already satisfied: xxhash in /usr/local/lib/python3.10/dist-packages (from datasets) (3.5.0)\n",
            "Requirement already satisfied: multiprocess<0.70.17 in /usr/local/lib/python3.10/dist-packages (from datasets) (0.70.16)\n",
            "Requirement already satisfied: fsspec<=2024.9.0,>=2023.1.0 in /usr/local/lib/python3.10/dist-packages (from fsspec[http]<=2024.9.0,>=2023.1.0->datasets) (2024.9.0)\n",
            "Requirement already satisfied: aiohttp in /usr/local/lib/python3.10/dist-packages (from datasets) (3.11.10)\n",
            "Requirement already satisfied: huggingface-hub>=0.23.0 in /usr/local/lib/python3.10/dist-packages (from datasets) (0.27.0)\n",
            "Requirement already satisfied: packaging in /usr/local/lib/python3.10/dist-packages (from datasets) (24.2)\n",
            "Requirement already satisfied: pyyaml>=5.1 in /usr/local/lib/python3.10/dist-packages (from datasets) (6.0.2)\n",
            "Requirement already satisfied: scipy>=1.3.1 in /usr/local/lib/python3.10/dist-packages (from umap-learn) (1.13.1)\n",
            "Requirement already satisfied: scikit-learn>=0.22 in /usr/local/lib/python3.10/dist-packages (from umap-learn) (1.6.0)\n",
            "Requirement already satisfied: numba>=0.51.2 in /usr/local/lib/python3.10/dist-packages (from umap-learn) (0.60.0)\n",
            "Requirement already satisfied: pynndescent>=0.5 in /usr/local/lib/python3.10/dist-packages (from umap-learn) (0.5.13)\n",
            "Requirement already satisfied: joblib>=1.0 in /usr/local/lib/python3.10/dist-packages (from hdbscan) (1.4.2)\n",
            "Requirement already satisfied: aiohappyeyeballs>=2.3.0 in /usr/local/lib/python3.10/dist-packages (from aiohttp->datasets) (2.4.4)\n",
            "Requirement already satisfied: aiosignal>=1.1.2 in /usr/local/lib/python3.10/dist-packages (from aiohttp->datasets) (1.3.2)\n",
            "Requirement already satisfied: async-timeout<6.0,>=4.0 in /usr/local/lib/python3.10/dist-packages (from aiohttp->datasets) (4.0.3)\n",
            "Requirement already satisfied: attrs>=17.3.0 in /usr/local/lib/python3.10/dist-packages (from aiohttp->datasets) (24.3.0)\n",
            "Requirement already satisfied: frozenlist>=1.1.1 in /usr/local/lib/python3.10/dist-packages (from aiohttp->datasets) (1.5.0)\n",
            "Requirement already satisfied: multidict<7.0,>=4.5 in /usr/local/lib/python3.10/dist-packages (from aiohttp->datasets) (6.1.0)\n",
            "Requirement already satisfied: propcache>=0.2.0 in /usr/local/lib/python3.10/dist-packages (from aiohttp->datasets) (0.2.1)\n",
            "Requirement already satisfied: yarl<2.0,>=1.17.0 in /usr/local/lib/python3.10/dist-packages (from aiohttp->datasets) (1.18.3)\n",
            "Requirement already satisfied: typing-extensions>=3.7.4.3 in /usr/local/lib/python3.10/dist-packages (from huggingface-hub>=0.23.0->datasets) (4.12.2)\n",
            "Requirement already satisfied: llvmlite<0.44,>=0.43.0dev0 in /usr/local/lib/python3.10/dist-packages (from numba>=0.51.2->umap-learn) (0.43.0)\n",
            "Requirement already satisfied: charset-normalizer<4,>=2 in /usr/local/lib/python3.10/dist-packages (from requests>=2.32.2->datasets) (3.4.0)\n",
            "Requirement already satisfied: idna<4,>=2.5 in /usr/local/lib/python3.10/dist-packages (from requests>=2.32.2->datasets) (3.10)\n",
            "Requirement already satisfied: urllib3<3,>=1.21.1 in /usr/local/lib/python3.10/dist-packages (from requests>=2.32.2->datasets) (2.2.3)\n",
            "Requirement already satisfied: certifi>=2017.4.17 in /usr/local/lib/python3.10/dist-packages (from requests>=2.32.2->datasets) (2024.12.14)\n",
            "Requirement already satisfied: threadpoolctl>=3.1.0 in /usr/local/lib/python3.10/dist-packages (from scikit-learn>=0.22->umap-learn) (3.5.0)\n",
            "Requirement already satisfied: python-dateutil>=2.8.2 in /usr/local/lib/python3.10/dist-packages (from pandas->datasets) (2.8.2)\n",
            "Requirement already satisfied: pytz>=2020.1 in /usr/local/lib/python3.10/dist-packages (from pandas->datasets) (2024.2)\n",
            "Requirement already satisfied: tzdata>=2022.7 in /usr/local/lib/python3.10/dist-packages (from pandas->datasets) (2024.2)\n",
            "Requirement already satisfied: six>=1.5 in /usr/local/lib/python3.10/dist-packages (from python-dateutil>=2.8.2->pandas->datasets) (1.17.0)\n",
            "Downloading hdbscan-0.8.40-cp310-cp310-manylinux_2_17_x86_64.manylinux2014_x86_64.whl (4.2 MB)\n",
            "\u001b[2K   \u001b[90m━━━━━━━━━━━━━━━━━━━━━━━━━━━━━━━━━━━━━━━━\u001b[0m \u001b[32m4.2/4.2 MB\u001b[0m \u001b[31m48.0 MB/s\u001b[0m eta \u001b[36m0:00:00\u001b[0m\n",
            "\u001b[?25hInstalling collected packages: hdbscan\n",
            "Successfully installed hdbscan-0.8.40\n"
          ]
        }
      ]
    },
    {
      "cell_type": "markdown",
      "source": [
        "# About Dataset\n",
        "\n",
        "In this tutorial, we'll be working with the ArXiv articles dataset. ArXiv is a free platform that hosts scholarly papers, mostly in fields like computer science, math, and physics. We'll focus on articles from the \"Computation and Language\" section, which includes around 44,000 abstracts!"
      ],
      "metadata": {
        "id": "eBXl4_4O8tty"
      }
    },
    {
      "cell_type": "code",
      "source": [
        "# Import the load_dataset function from the datasets library\n",
        "from datasets import load_dataset\n",
        "\n",
        "# Load the \"arxiv_nlp\" dataset from Hugging Face, specifically the \"train\" split\n",
        "dataset = load_dataset(\"maartengr/arxiv_nlp\")[\"train\"] # We will use train datasplit\n",
        "\n",
        "# Extract the \"Abstracts\" column from the dataset\n",
        "abstracts = dataset[\"Abstracts\"]\n",
        "\n",
        "# Extract the \"Titles\" column from the dataset\n",
        "titles = dataset[\"Titles\"]"
      ],
      "metadata": {
        "id": "M1VJOTK39RNb"
      },
      "execution_count": null,
      "outputs": []
    },
    {
      "cell_type": "markdown",
      "source": [
        "# Lets Implement Text Clustering Pipeline Step by Step"
      ],
      "metadata": {
        "id": "mRxXYFPP9ZV-"
      }
    },
    {
      "cell_type": "markdown",
      "source": [
        "# Step 1: Convert Texts to Embeddings"
      ],
      "metadata": {
        "id": "gWQvsOjH71Fe"
      }
    },
    {
      "cell_type": "code",
      "execution_count": null,
      "metadata": {
        "colab": {
          "base_uri": "https://localhost:8080/",
          "height": 49,
          "referenced_widgets": [
            "dd5b934631e54e76ada8c782164fd74b",
            "edaef27948e54532ba85a81122ce83ba",
            "591bb00d627f40a7bece944c9037351e",
            "6a5cc78577934c0aa5bafdc17ad4aff0",
            "62f8781979834da785cd0d8a77b0e6ea",
            "beab85e1a90c444aba25ebc5eeda31a2",
            "7d4441cbfcbb41098189f4705f848f45",
            "ac8a9e3f241548f39227ee3c9f68e711",
            "4653e4f5c991492ba0b5d4f983776d12",
            "59bf7ee9a5b94441bdee4f997a4465f6",
            "36b41f1862084b3e89f28cd04428baa8"
          ]
        },
        "id": "1V-nhz4-7WWV",
        "outputId": "55900cc1-df28-488f-896a-02e83d72c3d1"
      },
      "outputs": [
        {
          "output_type": "display_data",
          "data": {
            "text/plain": [
              "Batches:   0%|          | 0/1405 [00:00<?, ?it/s]"
            ],
            "application/vnd.jupyter.widget-view+json": {
              "version_major": 2,
              "version_minor": 0,
              "model_id": "dd5b934631e54e76ada8c782164fd74b"
            }
          },
          "metadata": {}
        }
      ],
      "source": [
        "# Import the SentenceTransformer class from the sentence_transformers library\n",
        "from sentence_transformers import SentenceTransformer\n",
        "\n",
        "# Initialize a pre-trained sentence embedding model ('thenlper/gte-small')\n",
        "embedding_model = SentenceTransformer('thenlper/gte-small')\n",
        "\n",
        "# Encode the abstracts into vector embeddings, with a progress bar shown\n",
        "document_embeddings = embedding_model.encode(abstracts, show_progress_bar=True)\n"
      ]
    },
    {
      "cell_type": "code",
      "source": [
        "document_embeddings"
      ],
      "metadata": {
        "colab": {
          "base_uri": "https://localhost:8080/"
        },
        "id": "E5LcvxPx9v3F",
        "outputId": "a0f143bd-845c-461e-a32b-762147f58fc7"
      },
      "execution_count": null,
      "outputs": [
        {
          "output_type": "execute_result",
          "data": {
            "text/plain": [
              "array([[-8.38182941e-02,  4.16542739e-02,  1.30672995e-02, ...,\n",
              "         1.21650947e-02, -4.80868062e-03, -4.08202223e-03],\n",
              "       [-8.71458948e-02,  4.05699238e-02,  1.86350923e-02, ...,\n",
              "         1.45083414e-02, -4.59755320e-05,  3.18071828e-03],\n",
              "       [-8.35833475e-02, -1.35176983e-02,  5.27515486e-02, ...,\n",
              "         6.29818738e-02,  5.36538735e-02, -1.19384965e-02],\n",
              "       ...,\n",
              "       [-6.52083009e-02, -4.26613912e-03,  2.71811057e-02, ...,\n",
              "         3.73920761e-02, -3.73670156e-03, -3.14223091e-03],\n",
              "       [-5.74976951e-02, -3.33516486e-02, -1.80733029e-03, ...,\n",
              "        -1.48869278e-02,  1.60427690e-02,  1.20141041e-02],\n",
              "       [-6.99503496e-02, -7.10727938e-04,  2.52838675e-02, ...,\n",
              "         4.33816463e-02, -1.36642193e-03,  6.26952271e-04]], dtype=float32)"
            ]
          },
          "metadata": {},
          "execution_count": 5
        }
      ]
    },
    {
      "cell_type": "code",
      "source": [
        "document_embeddings.shape"
      ],
      "metadata": {
        "colab": {
          "base_uri": "https://localhost:8080/"
        },
        "id": "X5uCt88v9omg",
        "outputId": "f7604107-7383-46d4-e394-b5312b2473fd"
      },
      "execution_count": null,
      "outputs": [
        {
          "output_type": "execute_result",
          "data": {
            "text/plain": [
              "(44949, 384)"
            ]
          },
          "metadata": {},
          "execution_count": 6
        }
      ]
    },
    {
      "cell_type": "markdown",
      "source": [
        "# Step 2: Reduce Dimensionality"
      ],
      "metadata": {
        "id": "EORd7-5d9tO3"
      }
    },
    {
      "cell_type": "code",
      "source": [
        "# Import the UMAP class from the umap library for dimensionality reduction\n",
        "from umap import UMAP\n",
        "\n",
        "# Initialize the UMAP model to reduce embeddings to 5 dimensions\n",
        "# n_components=5: Target dimensionality (5 dimensions)\n",
        "# min_dist=0.0: Minimum distance between points in the low-dimensional space\n",
        "# metric='cosine': Use cosine similarity as the distance metric\n",
        "# random_state=42: Set a fixed random seed for reproducibility\n",
        "umap_model_object = UMAP(\n",
        "    n_components=5, min_dist=0.0, metric='cosine', random_state=42\n",
        ")\n",
        "\n",
        "# Apply UMAP to reduce the dimensionality of the document embeddings\n",
        "new_compressed_embeddings = umap_model_object.fit_transform(document_embeddings)\n"
      ],
      "metadata": {
        "colab": {
          "base_uri": "https://localhost:8080/"
        },
        "id": "Ue9zM1uQ-fon",
        "outputId": "eaaa28b6-7d5a-4ef4-9ed1-12173206028c"
      },
      "execution_count": null,
      "outputs": [
        {
          "output_type": "stream",
          "name": "stderr",
          "text": [
            "/usr/local/lib/python3.10/dist-packages/sklearn/utils/deprecation.py:151: FutureWarning: 'force_all_finite' was renamed to 'ensure_all_finite' in 1.6 and will be removed in 1.8.\n",
            "  warnings.warn(\n",
            "/usr/local/lib/python3.10/dist-packages/umap/umap_.py:1952: UserWarning: n_jobs value 1 overridden to 1 by setting random_state. Use no seed for parallelism.\n",
            "  warn(\n"
          ]
        }
      ]
    },
    {
      "cell_type": "markdown",
      "source": [
        "# Step 3: Apply Clustering"
      ],
      "metadata": {
        "id": "EWx_dTIGBFd7"
      }
    },
    {
      "cell_type": "markdown",
      "source": [
        "We'll use the UMAP algorithm because it does a better job at capturing complex, nonlinear relationships and structures compared to PCA."
      ],
      "metadata": {
        "id": "z_N70xPPBds9"
      }
    },
    {
      "cell_type": "code",
      "source": [
        "# Import the HDBSCAN class from the hdbscan library for clustering\n",
        "from hdbscan import HDBSCAN\n",
        "\n",
        "# Initialize the HDBSCAN model with specified parameters:\n",
        "# min_cluster_size=50: Minimum size of clusters to be considered\n",
        "# metric='euclidean': Use Euclidean distance to measure similarity between points\n",
        "# cluster_selection_method='eom': Select clusters based on the Excess of Mass method\n",
        "# Fit the model on the reduced embeddings (new_compressed_embeddings)\n",
        "hdbscan_model = HDBSCAN(\n",
        "    min_cluster_size=50, metric='euclidean', cluster_selection_method='eom'\n",
        ").fit(new_compressed_embeddings)\n",
        "\n",
        "# Extract the cluster labels assigned to each data point\n",
        "clusters = hdbscan_model.labels_\n",
        "\n",
        "# Count how many unique clusters were generated\n",
        "len(set(clusters))\n"
      ],
      "metadata": {
        "colab": {
          "base_uri": "https://localhost:8080/"
        },
        "id": "syhL1Zuh-qXt",
        "outputId": "936a3d97-b87c-43f2-c6a5-8329a8c149df"
      },
      "execution_count": null,
      "outputs": [
        {
          "output_type": "stream",
          "name": "stderr",
          "text": [
            "/usr/local/lib/python3.10/dist-packages/sklearn/utils/deprecation.py:151: FutureWarning: 'force_all_finite' was renamed to 'ensure_all_finite' in 1.6 and will be removed in 1.8.\n",
            "  warnings.warn(\n",
            "/usr/local/lib/python3.10/dist-packages/sklearn/utils/deprecation.py:151: FutureWarning: 'force_all_finite' was renamed to 'ensure_all_finite' in 1.6 and will be removed in 1.8.\n",
            "  warnings.warn(\n"
          ]
        },
        {
          "output_type": "execute_result",
          "data": {
            "text/plain": [
              "150"
            ]
          },
          "metadata": {},
          "execution_count": 19
        }
      ]
    },
    {
      "cell_type": "markdown",
      "source": [
        "# Lets Inspect Clusters"
      ],
      "metadata": {
        "id": "bCjwWhFVB_Gz"
      }
    },
    {
      "cell_type": "code",
      "source": [
        "# Import the numpy library for numerical operations\n",
        "import numpy as np\n",
        "\n",
        "# Set the target cluster to 0\n",
        "cluster = 0\n",
        "\n",
        "# Loop through the first three document indices in cluster 0\n",
        "# np.where(clusters == cluster)[0] returns the indices of documents in the specified cluster\n",
        "# [:3] selects the first three documents\n",
        "for index in np.where(clusters == cluster)[0][:3]:\n",
        "    # Print the first 100 characters of each abstract, followed by ellipsis and a newline\n",
        "    print(abstracts[index][:100] + \"... \\n\")\n"
      ],
      "metadata": {
        "colab": {
          "base_uri": "https://localhost:8080/"
        },
        "id": "_qgAPTQdBvbZ",
        "outputId": "68f57891-3752-475e-b0e6-aa88a0571b26"
      },
      "execution_count": null,
      "outputs": [
        {
          "output_type": "stream",
          "name": "stdout",
          "text": [
            "  This works aims to design a statistical machine translation from English text\n",
            "to American Sign Lan... \n",
            "\n",
            "  Researches on signed languages still strongly dissociate lin- guistic issues\n",
            "related on phonologic... \n",
            "\n",
            "  Modern computational linguistic software cannot produce important aspects of\n",
            "sign language transla... \n",
            "\n"
          ]
        }
      ]
    },
    {
      "cell_type": "code",
      "source": [
        "# Import the numpy library for numerical operations\n",
        "import numpy as np\n",
        "\n",
        "# Set the target cluster to 2\n",
        "cluster = 2\n",
        "\n",
        "# Loop through the first three document indices in cluster 2\n",
        "# np.where(clusters == cluster)[0] returns the indices of documents in cluster 2\n",
        "# [:3] selects the first three documents from those indices\n",
        "for index in np.where(clusters == cluster)[0][:3]:\n",
        "    # Print the first 100 characters of each abstract, followed by ellipsis and a newline\n",
        "    print(abstracts[index][:100] + \"... \\n\")\n"
      ],
      "metadata": {
        "colab": {
          "base_uri": "https://localhost:8080/"
        },
        "id": "tF9RbpBqCIDw",
        "outputId": "f7f2d0e1-2189-4732-e1f9-36caba3426c5"
      },
      "execution_count": null,
      "outputs": [
        {
          "output_type": "stream",
          "name": "stdout",
          "text": [
            "  A computer model of \"a sense of humour\" suggested previously\n",
            "[arXiv:0711.2058,0711.2061], relating... \n",
            "\n",
            "  Computer model of a \"sense of humour\" suggested previously [arXiv:0711.2058,\n",
            "0711.2061, 0711.2270]... \n",
            "\n",
            "  The New Yorker publishes a weekly captionless cartoon. More than 5,000\n",
            "readers submit captions for... \n",
            "\n"
          ]
        }
      ]
    },
    {
      "cell_type": "code",
      "source": [],
      "metadata": {
        "id": "JKP80zizCXmH"
      },
      "execution_count": null,
      "outputs": []
    }
  ]
}